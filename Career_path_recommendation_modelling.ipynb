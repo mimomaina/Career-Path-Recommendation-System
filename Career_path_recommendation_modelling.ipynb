{
  "nbformat": 4,
  "nbformat_minor": 0,
  "metadata": {
    "colab": {
      "provenance": [],
      "authorship_tag": "ABX9TyPqXEOimlNZrj24lXsQELwi",
      "include_colab_link": true
    },
    "kernelspec": {
      "name": "python3",
      "display_name": "Python 3"
    },
    "language_info": {
      "name": "python"
    }
  },
  "cells": [
    {
      "cell_type": "markdown",
      "metadata": {
        "id": "view-in-github",
        "colab_type": "text"
      },
      "source": [
        "<a href=\"https://colab.research.google.com/github/mimomaina/Career-Path-Recommendation-System/blob/main/Career_path_recommendation_modelling.ipynb\" target=\"_parent\"><img src=\"https://colab.research.google.com/assets/colab-badge.svg\" alt=\"Open In Colab\"/></a>"
      ]
    },
    {
      "cell_type": "markdown",
      "source": [
        "# Cosine Similarity"
      ],
      "metadata": {
        "id": "RtupOzO1OxLo"
      }
    },
    {
      "cell_type": "code",
      "execution_count": 1,
      "metadata": {
        "colab": {
          "base_uri": "https://localhost:8080/"
        },
        "id": "HoD4Ocu-zm7a",
        "outputId": "db76a481-f0bc-4128-e59c-703244aa33e0"
      },
      "outputs": [
        {
          "output_type": "stream",
          "name": "stdout",
          "text": [
            "Preprocessed data loaded successfully!\n",
            "      Experience Qualifications Salary Range    location       Country  \\\n",
            "0  2 to 12 Years            BCA   $56K-$116K    Ashgabat  Turkmenistan   \n",
            "1  4 to 11 Years            phd    $65K-$91K  Porto-Novo         Benin   \n",
            "2  4 to 12 Years            MCA    $59K-$93K    Brussels       Belgium   \n",
            "3  3 to 10 Years            BCA   $57K-$104K      Manama       Bahrain   \n",
            "4   1 to 8 Years            NaN    $56K-$86K      Banjul        Gambia   \n",
            "\n",
            "   latitude  longitude  Work Type  Company Size Job Posting Date  ...  \\\n",
            "0   38.9697    59.5563     Intern        100340       2022-12-19  ...   \n",
            "1    9.3077     2.3158  Full-Time        129896       2023-02-25  ...   \n",
            "2   50.5039     4.4699  Full-Time         23196       2023-07-25  ...   \n",
            "3   26.0667    50.5577   Contract        130338       2023-07-01  ...   \n",
            "4   13.4432   -15.3101  Temporary        127900       2022-05-24  ...   \n",
            "\n",
            "                                     Company Profile Job Automation Type  \\\n",
            "0  {\"Sector\":\"Financial Services\",\"Industry\":\"Com...    Semi-Automatable   \n",
            "1  {\"Sector\":\"Energy\",\"Industry\":\"Mining, Crude-O...    Semi-Automatable   \n",
            "2  {\"Sector\":\"Infrastructure\",\"Industry\":\"Ports a...    Semi-Automatable   \n",
            "3  {\"Sector\":\"Food and Beverage\",\"Industry\":\"Food...  Easily Automatable   \n",
            "4  {\"Sector\":\"Energy\",\"Industry\":\"Pipelines\",\"Cit...    Semi-Automatable   \n",
            "\n",
            "                          Industry  Year Salary_Lower Salary_Min Salary_Max  \\\n",
            "0                             Tech  2022         56.0    56000.0   116000.0   \n",
            "1                             Tech  2023         65.0    65000.0    91000.0   \n",
            "2  Tech, Operations & Supply Chain  2023         59.0    59000.0    93000.0   \n",
            "3                             Tech  2023         57.0    57000.0   104000.0   \n",
            "4                             Tech  2022         56.0    56000.0    86000.0   \n",
            "\n",
            "  Salary_Avg Experience Level                   Extracted_NER  \n",
            "0    86000.0        Mid-Level     ['Frontend Web Developers']  \n",
            "1    78000.0           Senior  ['Wireless Network Engineers']  \n",
            "2    76000.0           Senior                              []  \n",
            "3    80500.0        Mid-Level                              []  \n",
            "4    71000.0        Mid-Level                              []  \n",
            "\n",
            "[5 rows x 29 columns]\n"
          ]
        }
      ],
      "source": [
        "import pandas as pd\n",
        "\n",
        "# Load the preprocessed data\n",
        "preprocessed_file_path = \"preprocessed_data.csv\"\n",
        "df = pd.read_csv(preprocessed_file_path)\n",
        "\n",
        "print(\"Preprocessed data loaded successfully!\")\n",
        "print(df.head())\n"
      ]
    },
    {
      "cell_type": "code",
      "source": [
        "import joblib\n",
        "\n",
        "# Load the TF-IDF vectorizer and matrix\n",
        "tfidf_vectorizer = joblib.load(\"tfidf_vectorizer.pkl\")\n",
        "tfidf_matrix = joblib.load(\"tfidf_matrix.pkl\")\n",
        "\n",
        "print(\"TF-IDF model loaded successfully!\")\n"
      ],
      "metadata": {
        "colab": {
          "base_uri": "https://localhost:8080/"
        },
        "id": "5DSQUnURHpVQ",
        "outputId": "d5aa6678-cf6e-4247-d8b0-a9d169c9c80c"
      },
      "execution_count": 2,
      "outputs": [
        {
          "output_type": "stream",
          "name": "stdout",
          "text": [
            "TF-IDF model loaded successfully!\n"
          ]
        }
      ]
    },
    {
      "cell_type": "code",
      "source": [
        "# !pip install faiss-cpu\n"
      ],
      "metadata": {
        "id": "EP95pnHyJjy4",
        "colab": {
          "base_uri": "https://localhost:8080/"
        },
        "outputId": "62e076d4-62b5-4080-9c38-b6a7175905cc"
      },
      "execution_count": 4,
      "outputs": [
        {
          "output_type": "stream",
          "name": "stdout",
          "text": [
            "Collecting faiss-cpu\n",
            "  Downloading faiss_cpu-1.10.0-cp311-cp311-manylinux_2_28_x86_64.whl.metadata (4.4 kB)\n",
            "Requirement already satisfied: numpy<3.0,>=1.25.0 in /usr/local/lib/python3.11/dist-packages (from faiss-cpu) (1.26.4)\n",
            "Requirement already satisfied: packaging in /usr/local/lib/python3.11/dist-packages (from faiss-cpu) (24.2)\n",
            "Downloading faiss_cpu-1.10.0-cp311-cp311-manylinux_2_28_x86_64.whl (30.7 MB)\n",
            "\u001b[2K   \u001b[90m━━━━━━━━━━━━━━━━━━━━━━━━━━━━━━━━━━━━━━━━\u001b[0m \u001b[32m30.7/30.7 MB\u001b[0m \u001b[31m38.9 MB/s\u001b[0m eta \u001b[36m0:00:00\u001b[0m\n",
            "\u001b[?25hInstalling collected packages: faiss-cpu\n",
            "Successfully installed faiss-cpu-1.10.0\n"
          ]
        }
      ]
    },
    {
      "cell_type": "code",
      "source": [
        "import joblib\n",
        "import numpy as np\n",
        "import faiss\n",
        "from sklearn.preprocessing import normalize"
      ],
      "metadata": {
        "id": "MPwlqZiCKx5e"
      },
      "execution_count": 5,
      "outputs": []
    },
    {
      "cell_type": "code",
      "source": [
        "# Convert sparse TF-IDF matrix to dense NumPy array (FAISS requires dense format)\n",
        "tfidf_matrix_dense = tfidf_matrix.toarray().astype(np.float32)"
      ],
      "metadata": {
        "id": "25bNYMBDLRst"
      },
      "execution_count": 6,
      "outputs": []
    },
    {
      "cell_type": "code",
      "source": [
        "#Normalize the vectors (cosine similarity requires normalized vectors)\n",
        "tfidf_matrix_dense = normalize(tfidf_matrix_dense, norm='l2')"
      ],
      "metadata": {
        "id": "pYtPzKHVLav9"
      },
      "execution_count": 7,
      "outputs": []
    },
    {
      "cell_type": "code",
      "source": [
        "# Create FAISS index for Cosine Similarity\n",
        "index = faiss.IndexFlatIP(tfidf_matrix_dense.shape[1])  # IP (Inner Product) for cosine similarity\n",
        "index.add(tfidf_matrix_dense)\n",
        "\n",
        "print(f\"FAISS index created with {index.ntotal} job descriptions.\")"
      ],
      "metadata": {
        "colab": {
          "base_uri": "https://localhost:8080/"
        },
        "id": "2-NCDSwVLhtd",
        "outputId": "89ed4936-8e0f-470c-a744-a1816963cac0"
      },
      "execution_count": 8,
      "outputs": [
        {
          "output_type": "stream",
          "name": "stdout",
          "text": [
            "FAISS index created with 292167 job descriptions.\n"
          ]
        }
      ]
    },
    {
      "cell_type": "code",
      "source": [
        "def search_similar_jobs(job_desc, top_k=5):\n",
        "    \"\"\"Search for top_k similar job descriptions using FAISS (cosine similarity).\"\"\"\n",
        "    # Transform input job description into TF-IDF vector\n",
        "    job_vector = tfidf_vectorizer.transform([job_desc]).toarray().astype(np.float32)\n",
        "\n",
        "    # Normalize the job vector (for cosine similarity)\n",
        "    job_vector = normalize(job_vector, norm='l2')\n",
        "\n",
        "    # Search FAISS index\n",
        "    distances, indices = index.search(job_vector, top_k)\n",
        "\n",
        "    return indices[0], distances[0]  # Returns indices and similarity scores\n"
      ],
      "metadata": {
        "id": "PNJ6THBzOMbt"
      },
      "execution_count": 19,
      "outputs": []
    },
    {
      "cell_type": "code",
      "source": [
        "# Example search (replace with an actual job description)\n",
        "query_job = \"Data Scientist with experience in Python and Machine Learning\"\n",
        "top_k = 5  # Define top K similar jobs to fetch\n",
        "similar_jobs, similarities = search_similar_jobs(query_job, top_k)\n"
      ],
      "metadata": {
        "id": "XO1yrnaJMoRP"
      },
      "execution_count": 21,
      "outputs": []
    },
    {
      "cell_type": "code",
      "source": [
        "# Display results\n",
        "print(\"\\n**Similar Job Listings:**\")\n",
        "for i, (job_id, similarity) in enumerate(zip(similar_jobs, similarities)):\n",
        "    print(f\"Rank {i+1}: Job ID {job_id} | Similarity Score: {similarity:.4f}\")"
      ],
      "metadata": {
        "colab": {
          "base_uri": "https://localhost:8080/"
        },
        "id": "rcMh1lNXNPVV",
        "outputId": "424121ac-f590-43e8-fa57-4386a6215a49"
      },
      "execution_count": 22,
      "outputs": [
        {
          "output_type": "stream",
          "name": "stdout",
          "text": [
            "\n",
            "**Similar Job Listings:**\n",
            "Rank 1: Job ID 803 | Similarity Score: 0.5493\n",
            "Rank 2: Job ID 678 | Similarity Score: 0.5493\n",
            "Rank 3: Job ID 656 | Similarity Score: 0.5493\n",
            "Rank 4: Job ID 481 | Similarity Score: 0.5493\n",
            "Rank 5: Job ID 437 | Similarity Score: 0.5493\n"
          ]
        }
      ]
    },
    {
      "cell_type": "markdown",
      "source": [
        "## Euclidean Distance"
      ],
      "metadata": {
        "id": "NObd_RZkO5jA"
      }
    },
    {
      "cell_type": "code",
      "source": [
        "import faiss\n",
        "import numpy as np\n",
        "import joblib\n",
        "from sklearn.preprocessing import normalize\n",
        "\n",
        "# Load the TF-IDF vectorizer and matrix\n",
        "tfidf_vectorizer = joblib.load(\"tfidf_vectorizer.pkl\")\n",
        "tfidf_matrix = joblib.load(\"tfidf_matrix.pkl\")\n",
        "\n",
        "# Convert to dense format and normalize\n",
        "tfidf_matrix_dense = tfidf_matrix.toarray().astype(np.float32)\n",
        "tfidf_matrix_dense = normalize(tfidf_matrix_dense, norm='l2')  # Normalize the vectors\n",
        "\n",
        "# Create a FAISS index with L2 distance\n",
        "index = faiss.IndexFlatL2(tfidf_matrix_dense.shape[1])\n",
        "index.add(tfidf_matrix_dense)  # Add normalized vectors\n",
        "\n",
        "# Confirm FAISS index size\n",
        "print(f\"FAISS index contains {index.ntotal} job descriptions.\")\n",
        "\n",
        "# Function to find similar jobs using L2 distance\n",
        "def find_similar_jobs(job_description, top_k=5):\n",
        "    job_vector = tfidf_vectorizer.transform([job_description]).toarray().astype(np.float32)\n",
        "    job_vector = normalize(job_vector, norm='l2')  # Normalize the query vector\n",
        "\n",
        "    distances, indices = index.search(job_vector, top_k)\n",
        "\n",
        "    return indices[0], distances[0]\n",
        "\n",
        "# Test with a sample job description\n",
        "job_description = \"Data Scientist with experience in machine learning and NLP.\"\n",
        "similar_jobs, distances = find_similar_jobs(job_description, top_k=5)\n",
        "\n",
        "# Print results\n",
        "print(\"\\n**Improved Similar Job Listings:**\")\n",
        "for rank, (job_id, distance) in enumerate(zip(similar_jobs, distances), start=1):\n",
        "    print(f\"Rank {rank}: Job ID {job_id} | Euclidean Distance: {distance:.4f}\")\n"
      ],
      "metadata": {
        "colab": {
          "base_uri": "https://localhost:8080/"
        },
        "id": "P1R-eodyP-w2",
        "outputId": "3eddbdf6-9d4e-4c19-bbfa-28fa8c3966da"
      },
      "execution_count": 24,
      "outputs": [
        {
          "output_type": "stream",
          "name": "stdout",
          "text": [
            "FAISS index contains 292167 job descriptions.\n",
            "\n",
            "**Improved Similar Job Listings:**\n",
            "Rank 1: Job ID 437 | Euclidean Distance: 0.9580\n",
            "Rank 2: Job ID 481 | Euclidean Distance: 0.9580\n",
            "Rank 3: Job ID 656 | Euclidean Distance: 0.9580\n",
            "Rank 4: Job ID 678 | Euclidean Distance: 0.9580\n",
            "Rank 5: Job ID 803 | Euclidean Distance: 0.9580\n"
          ]
        }
      ]
    },
    {
      "cell_type": "code",
      "source": [
        "import faiss\n",
        "import numpy as np\n",
        "import joblib\n",
        "from sklearn.preprocessing import normalize\n",
        "\n",
        "# Load the TF-IDF vectorizer and matrix\n",
        "tfidf_vectorizer = joblib.load(\"tfidf_vectorizer.pkl\")\n",
        "tfidf_matrix = joblib.load(\"tfidf_matrix.pkl\")\n",
        "\n",
        "# Convert sparse to dense and normalize\n",
        "tfidf_matrix_dense = tfidf_matrix.toarray().astype(np.float32)\n",
        "tfidf_matrix_dense = normalize(tfidf_matrix_dense, norm='l2')  # Normalize the vectors\n",
        "\n",
        "# Use FAISS IndexHNSWFlat (better structure for L2 search)\n",
        "d = tfidf_matrix_dense.shape[1]  # Vector dimension\n",
        "index = faiss.IndexHNSWFlat(d, 32)  # 32 is the number of neighbors stored in memory\n",
        "index.hnsw.efConstruction = 64  # Tuning parameter for better search accuracy\n",
        "index.add(tfidf_matrix_dense)\n",
        "\n",
        "# Confirm FAISS index size\n",
        "print(f\"FAISS index contains {index.ntotal} job descriptions.\")\n",
        "\n",
        "# Function to find similar jobs using L2 distance\n",
        "def find_similar_jobs(job_description, top_k=5):\n",
        "    job_vector = tfidf_vectorizer.transform([job_description]).toarray().astype(np.float32)\n",
        "    job_vector = normalize(job_vector, norm='l2')  # Normalize the query vector\n",
        "\n",
        "    distances, indices = index.search(job_vector, top_k)\n",
        "\n",
        "    return indices[0], distances[0]\n",
        "\n",
        "# Test with a sample job description\n",
        "job_description = \"Data Scientist with experience in machine learning and NLP.\"\n",
        "similar_jobs, distances = find_similar_jobs(job_description, top_k=5)\n",
        "\n",
        "# Print results\n",
        "print(\"\\n**Improved Similar Job Listings:**\")\n",
        "for rank, (job_id, distance) in enumerate(zip(similar_jobs, distances), start=1):\n",
        "    print(f\"Rank {rank}: Job ID {job_id} | Euclidean Distance: {distance:.4f}\")\n"
      ],
      "metadata": {
        "colab": {
          "base_uri": "https://localhost:8080/"
        },
        "id": "ylTEvc2MQau_",
        "outputId": "348d2061-9245-49b0-e9d2-c2e243f8d8e6"
      },
      "execution_count": 25,
      "outputs": [
        {
          "output_type": "stream",
          "name": "stdout",
          "text": [
            "FAISS index contains 292167 job descriptions.\n",
            "\n",
            "**Improved Similar Job Listings:**\n",
            "Rank 1: Job ID 98920 | Euclidean Distance: 0.9580\n",
            "Rank 2: Job ID 179978 | Euclidean Distance: 0.9580\n",
            "Rank 3: Job ID 187393 | Euclidean Distance: 0.9580\n",
            "Rank 4: Job ID 204360 | Euclidean Distance: 0.9580\n",
            "Rank 5: Job ID 206060 | Euclidean Distance: 0.9580\n"
          ]
        }
      ]
    }
  ]
}